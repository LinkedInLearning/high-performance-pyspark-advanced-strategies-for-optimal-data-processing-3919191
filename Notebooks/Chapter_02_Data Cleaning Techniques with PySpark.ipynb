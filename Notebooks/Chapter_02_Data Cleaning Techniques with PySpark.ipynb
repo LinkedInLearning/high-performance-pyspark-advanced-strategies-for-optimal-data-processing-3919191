{
 "cells": [
  {
   "cell_type": "code",
   "execution_count": 12,
   "metadata": {},
   "outputs": [],
   "source": [
    "# Initialize Spark Session\n",
    "from pyspark.sql import SparkSession\n",
    "from pyspark.sql.functions import col, when, isnull, count, regexp_extract, split, coalesce, lit, to_date\n",
    "from pyspark.sql.types import StructType, StructField, StringType, IntegerType, DoubleType, DateType, ArrayType\n",
    "import pyspark.sql.functions as F\n",
    "\n",
    "# Create Spark Session\n",
    "spark = SparkSession.builder \\\n",
    "    .appName(\"HighPerformancePySpark\") \\\n",
    "    .getOrCreate()\n",
    "\n",
    "# Set log level to WARN to reduce verbosity\n",
    "spark.sparkContext.setLogLevel(\"WARN\")"
   ]
  },
  {
   "cell_type": "code",
   "execution_count": 13,
   "metadata": {},
   "outputs": [
    {
     "name": "stdout",
     "output_type": "stream",
     "text": [
      "Raw Dataset:\n",
      "+--------+-----------------------------------------+----------+----------------+--------+------------------+------------------+----------------------------+\n",
      "|order_id|customer_details                         |order_date|product_category|quantity|price_per_unit    |tags              |items                       |\n",
      "+--------+-----------------------------------------+----------+----------------+--------+------------------+------------------+----------------------------+\n",
      "|ORD001  |Alice Johnson                            |NULL      |Electronics     |4       |15.769160684603047|['urgent', 'gift']|['Phone', 'Charger', 'Case']|\n",
      "|ORD002  |Bob Smith | 584 Street Name, City 16     |2022-12-30|NULL            |-3      |fifty             |['bulk_order']    |['Book1', 'Book2']          |\n",
      "|ORD003  |Charlie Brown | 598 Street Name, City 17 |2023-05-22|Books           |ten     |79.63563178465238 |NULL              |['Book1', 'Book2']          |\n",
      "|ORD004  |David Wilson | 290 Street Name, City 12  |2022-12-30|Books           |NULL    |27.556430196566655|NULL              |['Laptop', 'Mouse', None]   |\n",
      "|ORD005  |Eva Davis | 387 Street Name, City 10     |NULL      |NULL            |-4      |fifty             |['bulk_order']    |['Phone', 'Charger', 'Case']|\n",
      "|ORD006  |Frank Miller                             |2023-05-22|NULL            |10      |fifty             |urgent,gift       |['Table', 'Chair', -1]      |\n",
      "|ORD007  |Grace Lee | 869 Street Name, City 16     |2023-05-22|Books           |NULL    |fifty             |['bulk_order']    |['Table', 'Chair', -1]      |\n",
      "|ORD008  |Henry Moore | 661 Street Name, City 7    |2022-12-30|NULL            |-3      |NULL              |urgent,gift       |['Table', 'Chair', -1]      |\n",
      "|ORD009  |Ivy Taylor | 239 Street Name, City 3     |NULL      |NULL            |NULL    |fifty             |urgent,gift       |['Book1', 'Book2']          |\n",
      "|ORD010  |James Anderson | 760 Street Name, City 16|2023-01-15|Electronics     |4       |37.530252520104796|urgent,gift       |NULL                        |\n",
      "+--------+-----------------------------------------+----------+----------------+--------+------------------+------------------+----------------------------+\n",
      "only showing top 10 rows\n",
      "\n"
     ]
    }
   ],
   "source": [
    "# Define schema for the dataset\n",
    "schema = StructType([\n",
    "    StructField(\"order_id\", StringType(), True),\n",
    "    StructField(\"customer_details\", StringType(), True),\n",
    "    StructField(\"order_date\", StringType(), True),\n",
    "    StructField(\"product_category\", StringType(), True),\n",
    "    StructField(\"quantity\", StringType(), True),\n",
    "    StructField(\"price_per_unit\", StringType(), True),\n",
    "    StructField(\"tags\", StringType(), True),\n",
    "    StructField(\"items\", StringType(), True)\n",
    "])\n",
    "\n",
    "# Load the dataset\n",
    "df = spark.read.csv(\"/workspaces/high-performance-pyspark-advanced-strategies-for-optimal-data-processing-3919191/data/online_sales_data.csv\", schema=schema, header=True)\n",
    "\n",
    "# Display the dataset\n",
    "print(\"Raw Dataset:\")\n",
    "df.show(10, truncate=False)"
   ]
  },
  {
   "cell_type": "code",
   "execution_count": 14,
   "metadata": {},
   "outputs": [
    {
     "name": "stdout",
     "output_type": "stream",
     "text": [
      "+-------+--------+--------------------+----------+----------------+-----------------+------------------+--------------+--------------------+\n",
      "|summary|order_id|    customer_details|order_date|product_category|         quantity|    price_per_unit|          tags|               items|\n",
      "+-------+--------+--------------------+----------+----------------+-----------------+------------------+--------------+--------------------+\n",
      "|  count|     100|                 100|        63|              70|               78|                62|            82|                  80|\n",
      "|   mean|    NULL|                NULL|      NULL|            NULL|             1.68| 55.49113068483046|          NULL|                NULL|\n",
      "| stddev|    NULL|                NULL|      NULL|            NULL|4.639845176868095|27.456621254927434|          NULL|                NULL|\n",
      "|    min|  ORD001|       Alice Johnson|2022-12-30|           Books|               -1|15.769160684603047|['bulk_order']|  ['Book1', 'Book2']|\n",
      "|    max|  ORD100|James Anderson | ...|2023-05-22|  Home & Kitchen|              ten|             fifty|   urgent,gift|['Table', 'Chair'...|\n",
      "+-------+--------+--------------------+----------+----------------+-----------------+------------------+--------------+--------------------+\n",
      "\n"
     ]
    }
   ],
   "source": [
    "df.describe().show()"
   ]
  },
  {
   "cell_type": "code",
   "execution_count": 15,
   "metadata": {},
   "outputs": [
    {
     "name": "stdout",
     "output_type": "stream",
     "text": [
      "+--------+----------------+----------+----------------+--------+--------------+----+-----+\n",
      "|order_id|customer_details|order_date|product_category|quantity|price_per_unit|tags|items|\n",
      "+--------+----------------+----------+----------------+--------+--------------+----+-----+\n",
      "|       0|               0|        37|              30|      22|            38|  18|   20|\n",
      "+--------+----------------+----------+----------------+--------+--------------+----+-----+\n",
      "\n"
     ]
    }
   ],
   "source": [
    "# Find all the NULLs in the dataframe\n",
    "\n",
    "null_values_count = df.select([count(when(isnull(c) , c)).alias(c) for c in df.columns])\n",
    "\n",
    "null_values_count.show()"
   ]
  },
  {
   "cell_type": "code",
   "execution_count": 5,
   "metadata": {},
   "outputs": [
    {
     "name": "stdout",
     "output_type": "stream",
     "text": [
      "root\n",
      " |-- order_id: string (nullable = true)\n",
      " |-- customer_details: string (nullable = true)\n",
      " |-- order_date: string (nullable = true)\n",
      " |-- product_category: string (nullable = true)\n",
      " |-- quantity: string (nullable = true)\n",
      " |-- price_per_unit: string (nullable = true)\n",
      " |-- tags: string (nullable = true)\n",
      " |-- items: string (nullable = true)\n",
      "\n"
     ]
    }
   ],
   "source": [
    "df.printSchema()"
   ]
  },
  {
   "cell_type": "code",
   "execution_count": 16,
   "metadata": {},
   "outputs": [
    {
     "name": "stdout",
     "output_type": "stream",
     "text": [
      "+--------+--------------------+----------+----------------+--------+------------------+------------------+--------------------+\n",
      "|order_id|    customer_details|order_date|product_category|quantity|    price_per_unit|              tags|               items|\n",
      "+--------+--------------------+----------+----------------+--------+------------------+------------------+--------------------+\n",
      "|  ORD002|Bob Smith | 584 S...|2022-12-30|            NULL|      -3|             fifty|    ['bulk_order']|  ['Book1', 'Book2']|\n",
      "|  ORD003|Charlie Brown | 5...|2023-05-22|           Books|     ten| 79.63563178465238|              NULL|  ['Book1', 'Book2']|\n",
      "|  ORD005|Eva Davis | 387 S...|      NULL|            NULL|      -4|             fifty|    ['bulk_order']|['Phone', 'Charge...|\n",
      "|  ORD006|        Frank Miller|2023-05-22|            NULL|      10|             fifty|       urgent,gift|['Table', 'Chair'...|\n",
      "|  ORD007|Grace Lee | 869 S...|2023-05-22|           Books|    NULL|             fifty|    ['bulk_order']|['Table', 'Chair'...|\n",
      "|  ORD008|Henry Moore | 661...|2022-12-30|            NULL|      -3|              NULL|       urgent,gift|['Table', 'Chair'...|\n",
      "|  ORD009|Ivy Taylor | 239 ...|      NULL|            NULL|    NULL|             fifty|       urgent,gift|  ['Book1', 'Book2']|\n",
      "|  ORD011|       Alice Johnson|      NULL|            NULL|      -4| 26.15555520916483|       urgent,gift|                NULL|\n",
      "|  ORD012|Bob Smith | 23 St...|2023-05-22|  Home & Kitchen|    NULL|             fifty|       urgent,gift|  ['Book1', 'Book2']|\n",
      "|  ORD014|David Wilson | 85...|2023-05-22|            NULL|       3|             fifty|       urgent,gift|  ['Book1', 'Book2']|\n",
      "|  ORD016|        Frank Miller|2022-12-30|     Electronics|     ten|             fifty|['urgent', 'gift']|                NULL|\n",
      "|  ORD017|Grace Lee | 579 S...|      NULL|     Electronics|      -3|             fifty|    ['bulk_order']|['Laptop', 'Mouse...|\n",
      "|  ORD020|James Anderson | ...|2022-12-30|  Home & Kitchen|      -2| 19.55396781305644|    ['bulk_order']|                NULL|\n",
      "|  ORD021|       Alice Johnson|2023-05-22|     Electronics|       7|             fifty|['urgent', 'gift']|['Laptop', 'Mouse...|\n",
      "|  ORD022|Bob Smith | 711 S...|      NULL|            NULL|      -4|             fifty|    ['bulk_order']|['Phone', 'Charge...|\n",
      "|  ORD023|Charlie Brown | 8...|      NULL|     Electronics|     ten|19.030281187517616|              NULL|['Phone', 'Charge...|\n",
      "|  ORD024|David Wilson | 16...|2022-12-30|           Books|     ten|              NULL|['urgent', 'gift']|['Phone', 'Charge...|\n",
      "|  ORD025|Eva Davis | 805 S...|2023-05-22|     Electronics|     ten|             fifty|    ['bulk_order']|['Laptop', 'Mouse...|\n",
      "|  ORD026|        Frank Miller|      NULL|  Home & Kitchen|      -1|             fifty|              NULL|['Phone', 'Charge...|\n",
      "|  ORD027|Grace Lee | 339 S...|      NULL|     Electronics|      -2|              NULL|['urgent', 'gift']|['Phone', 'Charge...|\n",
      "+--------+--------------------+----------+----------------+--------+------------------+------------------+--------------------+\n",
      "only showing top 20 rows\n",
      "\n"
     ]
    }
   ],
   "source": [
    "# Detect rows with negative quantity or invalid price\n",
    "df_invalid = df.filter((col(\"quantity\") < 0) | (col(\"quantity\").rlike(\"^[^0-9]\")) | (col(\"price_per_unit\").rlike(\"^[^0-9]\")))\n",
    "df_invalid.show()"
   ]
  },
  {
   "cell_type": "code",
   "execution_count": 19,
   "metadata": {},
   "outputs": [
    {
     "name": "stdout",
     "output_type": "stream",
     "text": [
      "+--------+--------------------+----------+----------------+--------+------------------+------------------+--------------------+---------------+--------------------+\n",
      "|order_id|    customer_details|order_date|product_category|quantity|    price_per_unit|              tags|               items|  Customer Name|    Customer Address|\n",
      "+--------+--------------------+----------+----------------+--------+------------------+------------------+--------------------+---------------+--------------------+\n",
      "|  ORD001|       Alice Johnson|      NULL|     Electronics|     4.0|15.769160684603047|['urgent', 'gift']|['Phone', 'Charge...|  Alice Johnson|             Unknown|\n",
      "|  ORD002|Bob Smith | 584 S...|2022-12-30|            NULL|    -3.0|             fifty|    ['bulk_order']|  ['Book1', 'Book2']|     Bob Smith | 584 Street Name,...|\n",
      "|  ORD003|Charlie Brown | 5...|2023-05-22|           Books|     1.0| 79.63563178465238|              NULL|  ['Book1', 'Book2']| Charlie Brown | 598 Street Name,...|\n",
      "|  ORD004|David Wilson | 29...|2022-12-30|           Books|     1.0|27.556430196566655|              NULL|['Laptop', 'Mouse...|  David Wilson | 290 Street Name,...|\n",
      "|  ORD005|Eva Davis | 387 S...|      NULL|            NULL|    -4.0|             fifty|    ['bulk_order']|['Phone', 'Charge...|     Eva Davis | 387 Street Name,...|\n",
      "|  ORD006|        Frank Miller|2023-05-22|            NULL|    10.0|             fifty|       urgent,gift|['Table', 'Chair'...|   Frank Miller|             Unknown|\n",
      "|  ORD007|Grace Lee | 869 S...|2023-05-22|           Books|     1.0|             fifty|    ['bulk_order']|['Table', 'Chair'...|     Grace Lee | 869 Street Name,...|\n",
      "|  ORD008|Henry Moore | 661...|2022-12-30|            NULL|    -3.0|              NULL|       urgent,gift|['Table', 'Chair'...|   Henry Moore | 661 Street Name,...|\n",
      "|  ORD009|Ivy Taylor | 239 ...|      NULL|            NULL|     1.0|             fifty|       urgent,gift|  ['Book1', 'Book2']|    Ivy Taylor | 239 Street Name,...|\n",
      "|  ORD010|James Anderson | ...|2023-01-15|     Electronics|     4.0|37.530252520104796|       urgent,gift|                NULL|James Anderson | 760 Street Name,...|\n",
      "|  ORD011|       Alice Johnson|      NULL|            NULL|    -4.0| 26.15555520916483|       urgent,gift|                NULL|  Alice Johnson|             Unknown|\n",
      "|  ORD012|Bob Smith | 23 St...|2023-05-22|  Home & Kitchen|     1.0|             fifty|       urgent,gift|  ['Book1', 'Book2']|     Bob Smith | 23 Street Name, ...|\n",
      "|  ORD013|Charlie Brown | 7...|2022-12-30|            NULL|     5.0|              NULL|              NULL|['Table', 'Chair'...| Charlie Brown | 769 Street Name,...|\n",
      "|  ORD014|David Wilson | 85...|2023-05-22|            NULL|     3.0|             fifty|       urgent,gift|  ['Book1', 'Book2']|  David Wilson | 855 Street Name,...|\n",
      "|  ORD015|Eva Davis | 672 S...|2022-12-30|           Books|     6.0| 89.91645214936939|['urgent', 'gift']|['Phone', 'Charge...|     Eva Davis | 672 Street Name,...|\n",
      "|  ORD016|        Frank Miller|2022-12-30|     Electronics|     1.0|             fifty|['urgent', 'gift']|                NULL|   Frank Miller|             Unknown|\n",
      "|  ORD017|Grace Lee | 579 S...|      NULL|     Electronics|    -3.0|             fifty|    ['bulk_order']|['Laptop', 'Mouse...|     Grace Lee | 579 Street Name,...|\n",
      "|  ORD018|Henry Moore | 654...|2023-05-22|            NULL|    10.0| 70.58565812875656|       urgent,gift|['Phone', 'Charge...|   Henry Moore | 654 Street Name,...|\n",
      "|  ORD019|Ivy Taylor | 403 ...|      NULL|            NULL|     3.0| 72.02496035537018|       urgent,gift|['Table', 'Chair'...|    Ivy Taylor | 403 Street Name,...|\n",
      "|  ORD020|James Anderson | ...|2022-12-30|  Home & Kitchen|    -2.0| 19.55396781305644|    ['bulk_order']|                NULL|James Anderson | 210 Street Name,...|\n",
      "+--------+--------------------+----------+----------------+--------+------------------+------------------+--------------------+---------------+--------------------+\n",
      "only showing top 20 rows\n",
      "\n"
     ]
    }
   ],
   "source": [
    "df = df.withColumn(\"Customer Name\", split(col(\"customer_details\") , \"\\\\|\")[0]).\\\n",
    "         withColumn(\"Customer Address\" , split(col(\"customer_details\"), \"\\\\|\")[1])\n",
    "\n",
    "df = df.withColumn(\"Customer Address\" , when(col(\"Customer Address\").isNull() , lit(\"Unknown\")).otherwise(col(\"Customer Address\")))\n",
    "df.show()"
   ]
  },
  {
   "cell_type": "code",
   "execution_count": 20,
   "metadata": {},
   "outputs": [
    {
     "name": "stdout",
     "output_type": "stream",
     "text": [
      "+--------+--------------------+----------+----------------+--------+------------------+------------------+--------------------+---------------+--------------------+---------------+----+\n",
      "|order_id|    customer_details|order_date|product_category|quantity|    price_per_unit|              tags|               items|  Customer Name|    Customer Address|         street|city|\n",
      "+--------+--------------------+----------+----------------+--------+------------------+------------------+--------------------+---------------+--------------------+---------------+----+\n",
      "|  ORD001|       Alice Johnson|      NULL|     Electronics|     4.0|15.769160684603047|['urgent', 'gift']|['Phone', 'Charge...|  Alice Johnson|             Unknown|               |    |\n",
      "|  ORD002|Bob Smith | 584 S...|2022-12-30|            NULL|    -3.0|             fifty|    ['bulk_order']|  ['Book1', 'Book2']|     Bob Smith | 584 Street Name,...|584 Street Name|  16|\n",
      "|  ORD003|Charlie Brown | 5...|2023-05-22|           Books|     1.0| 79.63563178465238|              NULL|  ['Book1', 'Book2']| Charlie Brown | 598 Street Name,...|598 Street Name|  17|\n",
      "|  ORD004|David Wilson | 29...|2022-12-30|           Books|     1.0|27.556430196566655|              NULL|['Laptop', 'Mouse...|  David Wilson | 290 Street Name,...|290 Street Name|  12|\n",
      "|  ORD005|Eva Davis | 387 S...|      NULL|            NULL|    -4.0|             fifty|    ['bulk_order']|['Phone', 'Charge...|     Eva Davis | 387 Street Name,...|387 Street Name|  10|\n",
      "|  ORD006|        Frank Miller|2023-05-22|            NULL|    10.0|             fifty|       urgent,gift|['Table', 'Chair'...|   Frank Miller|             Unknown|               |    |\n",
      "|  ORD007|Grace Lee | 869 S...|2023-05-22|           Books|     1.0|             fifty|    ['bulk_order']|['Table', 'Chair'...|     Grace Lee | 869 Street Name,...|869 Street Name|  16|\n",
      "|  ORD008|Henry Moore | 661...|2022-12-30|            NULL|    -3.0|              NULL|       urgent,gift|['Table', 'Chair'...|   Henry Moore | 661 Street Name,...|661 Street Name|   7|\n",
      "|  ORD009|Ivy Taylor | 239 ...|      NULL|            NULL|     1.0|             fifty|       urgent,gift|  ['Book1', 'Book2']|    Ivy Taylor | 239 Street Name,...|239 Street Name|   3|\n",
      "|  ORD010|James Anderson | ...|2023-01-15|     Electronics|     4.0|37.530252520104796|       urgent,gift|                NULL|James Anderson | 760 Street Name,...|760 Street Name|  16|\n",
      "|  ORD011|       Alice Johnson|      NULL|            NULL|    -4.0| 26.15555520916483|       urgent,gift|                NULL|  Alice Johnson|             Unknown|               |    |\n",
      "|  ORD012|Bob Smith | 23 St...|2023-05-22|  Home & Kitchen|     1.0|             fifty|       urgent,gift|  ['Book1', 'Book2']|     Bob Smith | 23 Street Name, ...| 23 Street Name|  17|\n",
      "|  ORD013|Charlie Brown | 7...|2022-12-30|            NULL|     5.0|              NULL|              NULL|['Table', 'Chair'...| Charlie Brown | 769 Street Name,...|769 Street Name|   9|\n",
      "|  ORD014|David Wilson | 85...|2023-05-22|            NULL|     3.0|             fifty|       urgent,gift|  ['Book1', 'Book2']|  David Wilson | 855 Street Name,...|855 Street Name|  16|\n",
      "|  ORD015|Eva Davis | 672 S...|2022-12-30|           Books|     6.0| 89.91645214936939|['urgent', 'gift']|['Phone', 'Charge...|     Eva Davis | 672 Street Name,...|672 Street Name|   2|\n",
      "|  ORD016|        Frank Miller|2022-12-30|     Electronics|     1.0|             fifty|['urgent', 'gift']|                NULL|   Frank Miller|             Unknown|               |    |\n",
      "|  ORD017|Grace Lee | 579 S...|      NULL|     Electronics|    -3.0|             fifty|    ['bulk_order']|['Laptop', 'Mouse...|     Grace Lee | 579 Street Name,...|579 Street Name|  14|\n",
      "|  ORD018|Henry Moore | 654...|2023-05-22|            NULL|    10.0| 70.58565812875656|       urgent,gift|['Phone', 'Charge...|   Henry Moore | 654 Street Name,...|654 Street Name|  12|\n",
      "|  ORD019|Ivy Taylor | 403 ...|      NULL|            NULL|     3.0| 72.02496035537018|       urgent,gift|['Table', 'Chair'...|    Ivy Taylor | 403 Street Name,...|403 Street Name|   8|\n",
      "|  ORD020|James Anderson | ...|2022-12-30|  Home & Kitchen|    -2.0| 19.55396781305644|    ['bulk_order']|                NULL|James Anderson | 210 Street Name,...|210 Street Name|  13|\n",
      "+--------+--------------------+----------+----------------+--------+------------------+------------------+--------------------+---------------+--------------------+---------------+----+\n",
      "only showing top 20 rows\n",
      "\n"
     ]
    }
   ],
   "source": [
    "from pyspark.sql.functions import regexp_extract\n",
    "\n",
    "# Example of extracting components from customer_details (e.g., street name, city)\n",
    "df_address_split = df.withColumn('street', regexp_extract(col('customer_details'), r'(\\d+ Street Name)', 1)) \\\n",
    "                     .withColumn('city', regexp_extract(col('customer_details'), r'City (\\d+)', 1))\n",
    "df_address_split.show()\n"
   ]
  },
  {
   "cell_type": "code",
   "execution_count": 18,
   "metadata": {},
   "outputs": [
    {
     "name": "stdout",
     "output_type": "stream",
     "text": [
      "+--------+--------------------+----------+----------------+--------+------------------+------------------+--------------------+\n",
      "|order_id|    customer_details|order_date|product_category|quantity|    price_per_unit|              tags|               items|\n",
      "+--------+--------------------+----------+----------------+--------+------------------+------------------+--------------------+\n",
      "|  ORD001|       Alice Johnson|      NULL|     Electronics|     4.0|15.769160684603047|['urgent', 'gift']|['Phone', 'Charge...|\n",
      "|  ORD002|Bob Smith | 584 S...|2022-12-30|            NULL|    -3.0|             fifty|    ['bulk_order']|  ['Book1', 'Book2']|\n",
      "|  ORD003|Charlie Brown | 5...|2023-05-22|           Books|     1.0| 79.63563178465238|              NULL|  ['Book1', 'Book2']|\n",
      "|  ORD004|David Wilson | 29...|2022-12-30|           Books|     1.0|27.556430196566655|              NULL|['Laptop', 'Mouse...|\n",
      "|  ORD005|Eva Davis | 387 S...|      NULL|            NULL|    -4.0|             fifty|    ['bulk_order']|['Phone', 'Charge...|\n",
      "+--------+--------------------+----------+----------------+--------+------------------+------------------+--------------------+\n",
      "only showing top 5 rows\n",
      "\n"
     ]
    }
   ],
   "source": [
    "# Data is skewed in quantity column. \n",
    "# So we will impute median for NULLs in this column\n",
    "# \"quantity\" is String type, first we will cast it to Numeric \n",
    "# Then impute the Median\n",
    "df = df.withColumn(\"quantity\" , col(\"quantity\").cast(\"double\"))\n",
    "\n",
    "\n",
    "# Step 1: Calculate the median of the 'quantity' column\n",
    "\n",
    "median_quantity = df.approxQuantile(\"quantity\", [0.5], 0.0)[0]  # 0.5 for median (50th percentile)\n",
    "df = df.withColumn(\"quantity\" , when(col(\"quantity\").isNull() , median_quantity).otherwise(col(\"quantity\")))\n",
    "df.show(5)"
   ]
  },
  {
   "cell_type": "code",
   "execution_count": 7,
   "metadata": {},
   "outputs": [],
   "source": [
    "def clean_and_transform(df):\n",
    "    # Fix order_date\n",
    "    df = df.withColumn(\"order_date\", \n",
    "                       when(to_date(col(\"order_date\"), \"yyyy-MM-dd\").isNotNull(), \n",
    "                            to_date(col(\"order_date\"), \"yyyy-MM-dd\"))\n",
    "                       .otherwise(None))\n",
    "    \n",
    "    # Fix quantity: Replace invalid quantities with 0\n",
    "    df = df.withColumn(\"quantity\", \n",
    "                       when((col(\"quantity\").isNotNull()) & (col(\"quantity\") >= 0), col(\"quantity\").cast(IntegerType()))\n",
    "                       .otherwise(0))\n",
    "    \n",
    "    # Fix price_per_unit\n",
    "    df = df.withColumn(\"price_per_unit\", \n",
    "                       when(col(\"price_per_unit\").rlike(\"^-?\\\\d+(\\\\.\\\\d+)?$\"), col(\"price_per_unit\").cast(DoubleType()))\n",
    "                       .otherwise(None))\n",
    "    \n",
    "    # Fix product_category\n",
    "    df = df.withColumn(\"product_category\", \n",
    "                       coalesce(col(\"product_category\"), lit(\"Unknown\")))\n",
    "    \n",
    "    # Fix tags\n",
    "    df = df.withColumn(\"tags\", \n",
    "                       coalesce(col(\"tags\"), lit(\"['no tags']\")))\n",
    "    \n",
    "    # Fix items\n",
    "    df = df.withColumn(\"items\", \n",
    "                       coalesce(col(\"items\"), lit(\"['no items']\")))\n",
    "    \n",
    "    # Extract customer name and address\n",
    "    df = df.withColumn(\"customer_name\", \n",
    "                       regexp_extract(col(\"customer_details\"), r\"^([^|]+)\", 1)) \\\n",
    "           .withColumn(\"customer_address\", \n",
    "                       regexp_extract(col(\"customer_details\"), r\"\\|\\s*(.+)$\", 1))\n",
    "    \n",
    "    # Drop the original customer_details column\n",
    "    df = df.drop(\"customer_details\")\n",
    "    \n",
    "    return df"
   ]
  },
  {
   "cell_type": "code",
   "execution_count": 8,
   "metadata": {},
   "outputs": [
    {
     "ename": "AssertionError",
     "evalue": "Found 72 invalid quantities",
     "output_type": "error",
     "traceback": [
      "\u001b[0;31m---------------------------------------------------------------------------\u001b[0m",
      "\u001b[0;31mAssertionError\u001b[0m                            Traceback (most recent call last)",
      "Cell \u001b[0;32mIn[8], line 30\u001b[0m\n\u001b[1;32m     27\u001b[0m     \u001b[38;5;28mprint\u001b[39m(\u001b[38;5;124m\"\u001b[39m\u001b[38;5;124mAll tests passed!\u001b[39m\u001b[38;5;124m\"\u001b[39m)\n\u001b[1;32m     29\u001b[0m \u001b[38;5;66;03m# Run unit tests\u001b[39;00m\n\u001b[0;32m---> 30\u001b[0m \u001b[43mtest_data_quality\u001b[49m\u001b[43m(\u001b[49m\u001b[43mcleaned_df\u001b[49m\u001b[43m)\u001b[49m\n",
      "Cell \u001b[0;32mIn[8], line 9\u001b[0m, in \u001b[0;36mtest_data_quality\u001b[0;34m(df)\u001b[0m\n\u001b[1;32m      7\u001b[0m \u001b[38;5;66;03m# Test 2: Check for invalid quantities (negative or non-integer)\u001b[39;00m\n\u001b[1;32m      8\u001b[0m invalid_quantities \u001b[38;5;241m=\u001b[39m df\u001b[38;5;241m.\u001b[39mfilter((col(\u001b[38;5;124m\"\u001b[39m\u001b[38;5;124mquantity\u001b[39m\u001b[38;5;124m\"\u001b[39m)\u001b[38;5;241m.\u001b[39misNull()) \u001b[38;5;241m|\u001b[39m (col(\u001b[38;5;124m\"\u001b[39m\u001b[38;5;124mquantity\u001b[39m\u001b[38;5;124m\"\u001b[39m) \u001b[38;5;241m<\u001b[39m \u001b[38;5;241m0\u001b[39m))\u001b[38;5;241m.\u001b[39mcount()\n\u001b[0;32m----> 9\u001b[0m \u001b[38;5;28;01massert\u001b[39;00m invalid_quantities \u001b[38;5;241m==\u001b[39m \u001b[38;5;241m0\u001b[39m, \u001b[38;5;124mf\u001b[39m\u001b[38;5;124m\"\u001b[39m\u001b[38;5;124mFound \u001b[39m\u001b[38;5;132;01m{\u001b[39;00minvalid_quantities\u001b[38;5;132;01m}\u001b[39;00m\u001b[38;5;124m invalid quantities\u001b[39m\u001b[38;5;124m\"\u001b[39m\n\u001b[1;32m     11\u001b[0m \u001b[38;5;66;03m# Test 3: Check for invalid prices (negative or non-numeric)\u001b[39;00m\n\u001b[1;32m     12\u001b[0m invalid_prices \u001b[38;5;241m=\u001b[39m df\u001b[38;5;241m.\u001b[39mfilter((col(\u001b[38;5;124m\"\u001b[39m\u001b[38;5;124mprice_per_unit\u001b[39m\u001b[38;5;124m\"\u001b[39m)\u001b[38;5;241m.\u001b[39misNull()) \u001b[38;5;241m|\u001b[39m (col(\u001b[38;5;124m\"\u001b[39m\u001b[38;5;124mprice_per_unit\u001b[39m\u001b[38;5;124m\"\u001b[39m) \u001b[38;5;241m<\u001b[39m \u001b[38;5;241m0\u001b[39m))\u001b[38;5;241m.\u001b[39mcount()\n",
      "\u001b[0;31mAssertionError\u001b[0m: Found 72 invalid quantities"
     ]
    }
   ],
   "source": [
    "# Data Validation and Unit Testing\n",
    "def test_data_quality(df):\n",
    "    # Test 1: Check for NULL order_ids\n",
    "    null_order_ids = df.filter(col(\"order_id\").isNull()).count()\n",
    "    assert null_order_ids == 0, f\"Found {null_order_ids} NULL order_ids\"\n",
    "    \n",
    "    # Test 2: Check for invalid quantities (negative or non-integer)\n",
    "    invalid_quantities = df.filter((col(\"quantity\").isNull()) | (col(\"quantity\") < 0)).count()\n",
    "    assert invalid_quantities == 0, f\"Found {invalid_quantities} invalid quantities\"\n",
    "    \n",
    "    # Test 3: Check for invalid prices (negative or non-numeric)\n",
    "    invalid_prices = df.filter((col(\"price_per_unit\").isNull()) | (col(\"price_per_unit\") < 0)).count()\n",
    "    assert invalid_prices == 0, f\"Found {invalid_prices} invalid prices\"\n",
    "    \n",
    "    # Test 4: Check for NULL product categories\n",
    "    null_categories = df.filter(col(\"product_category\").isNull()).count()\n",
    "    assert null_categories == 0, f\"Found {null_categories} NULL product categories\"\n",
    "    \n",
    "    # Test 5: Check for NULL tags\n",
    "    null_tags = df.filter(col(\"tags\").isNull()).count()\n",
    "    assert null_tags == 0, f\"Found {null_tags} NULL tags\"\n",
    "    \n",
    "    # Test 6: Check for NULL items\n",
    "    null_items = df.filter(col(\"items\").isNull()).count()\n",
    "    assert null_items == 0, f\"Found {null_items} NULL items\"\n",
    "    \n",
    "    print(\"All tests passed!\")\n",
    "\n",
    "# Run unit tests\n",
    "test_data_quality(cleaned_df)"
   ]
  },
  {
   "cell_type": "code",
   "execution_count": 9,
   "metadata": {},
   "outputs": [
    {
     "name": "stdout",
     "output_type": "stream",
     "text": [
      "Revenue by Product Category:\n",
      "+----------------+------------------+\n",
      "|product_category|total_revenue     |\n",
      "+----------------+------------------+\n",
      "|Unknown         |1355.2008182536647|\n",
      "|Books           |412.28163560835685|\n",
      "|Electronics     |122.00022348307672|\n",
      "|Home & Kitchen  |-596.1881632731537|\n",
      "+----------------+------------------+\n",
      "\n"
     ]
    }
   ],
   "source": [
    "# Aggregation Example: Total revenue by product category\n",
    "revenue_by_category = cleaned_df.groupBy(\"product_category\") \\\n",
    "    .agg(F.sum(col(\"quantity\") * col(\"price_per_unit\")).alias(\"total_revenue\")) \\\n",
    "    .orderBy(\"total_revenue\", ascending=False)\n",
    "\n",
    "print(\"Revenue by Product Category:\")\n",
    "revenue_by_category.show(truncate=False)"
   ]
  },
  {
   "cell_type": "code",
   "execution_count": 10,
   "metadata": {},
   "outputs": [],
   "source": [
    "# Stop Spark Session\n",
    "spark.stop()"
   ]
  },
  {
   "cell_type": "code",
   "execution_count": null,
   "metadata": {},
   "outputs": [],
   "source": []
  }
 ],
 "metadata": {
  "kernelspec": {
   "display_name": ".venv",
   "language": "python",
   "name": "python3"
  },
  "language_info": {
   "codemirror_mode": {
    "name": "ipython",
    "version": 3
   },
   "file_extension": ".py",
   "mimetype": "text/x-python",
   "name": "python",
   "nbconvert_exporter": "python",
   "pygments_lexer": "ipython3",
   "version": "3.12.1"
  }
 },
 "nbformat": 4,
 "nbformat_minor": 2
}
